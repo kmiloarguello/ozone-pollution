{
 "metadata": {
  "language_info": {
   "codemirror_mode": {
    "name": "ipython",
    "version": 3
   },
   "file_extension": ".py",
   "mimetype": "text/x-python",
   "name": "python",
   "nbconvert_exporter": "python",
   "pygments_lexer": "ipython3",
   "version": "3.8.5-final"
  },
  "orig_nbformat": 2,
  "kernelspec": {
   "name": "python385jvsc74a57bd08ff4f812ab79bf08e8f4a43cabbe94a4b795d0bd46d79d36b18296f7c436a543",
   "display_name": "Python 3.8.5 64-bit ('base': conda)"
  }
 },
 "nbformat": 4,
 "nbformat_minor": 2,
 "cells": [
  {
   "cell_type": "code",
   "execution_count": null,
   "metadata": {},
   "outputs": [],
   "source": [
    "import os\n",
    "import netCDF4\n",
    "from pyhdf import SD\n",
    "import os\n",
    "import matplotlib as mpl\n",
    "import matplotlib.pyplot as plt\n",
    "from mpl_toolkits.basemap import Basemap\n",
    "import numpy as np\n",
    "from mpl_toolkits.axes_grid1 import make_axes_locatable\n"
   ]
  },
  {
   "cell_type": "code",
   "execution_count": null,
   "metadata": {},
   "outputs": [],
   "source": [
    "os.listdir('.')"
   ]
  },
  {
   "cell_type": "code",
   "execution_count": null,
   "metadata": {
    "tags": []
   },
   "outputs": [],
   "source": [
    "# HDF file and SDS names\n",
    "FILE_NAME = \"AIRS.2008.05.04.L3.RetStd001.v7.0.3.0.G20189194322.hdf\"\n",
    "#DATAFIELD_NAME='CO_VMR_A_sdev' \n",
    "#DATAFIELD_NAME='CO_VMR_A_ct'\n",
    "DATAFIELD_NAME='CO_VMR_TqJ_A' #   TotO3_A\n",
    " \n",
    "# open the hdf file\n",
    "hdf = SD.SD(FILE_NAME)"
   ]
  },
  {
   "cell_type": "code",
   "execution_count": null,
   "metadata": {
    "tags": [
     "outputPrepend"
    ]
   },
   "outputs": [],
   "source": [
    "print(hdf.datasets())"
   ]
  },
  {
   "cell_type": "code",
   "execution_count": null,
   "metadata": {},
   "outputs": [],
   "source": [
    "data3D = hdf.select(DATAFIELD_NAME)\n",
    "\n",
    "#data = data3D[:,:]\n",
    "data = data3D[0,:,:]\n",
    "\n",
    "lat = hdf.select('Latitude')\n",
    "latitude = lat[:,:]\n",
    "lon = hdf.select('Longitude')\n",
    "longitude = lon[:,:]\n",
    "\n",
    "print(latitude.shape, longitude.shape)\n",
    "print(data3D.dimensions())"
   ]
  },
  {
   "cell_type": "code",
   "execution_count": null,
   "metadata": {},
   "outputs": [],
   "source": [
    "m = Basemap(projection='cyl', resolution='i', llcrnrlon=100.,llcrnrlat=20.,urcrnrlon=150.,urcrnrlat=48.)\n",
    "m.drawcoastlines(linewidth=0.5)\n",
    "m.drawmeridians(np.r_[100:151:10], labels=[0,0,0,1], color='grey',fontsize=8,linewidth=0)\n",
    "m.drawparallels(np.r_[20:48:5], labels=[1,0,0,0], color='grey',fontsize=8,linewidth=0)\n",
    "x, y = m(longitude, latitude)\n",
    "cs = plt.pcolormesh(x, y, data, cmap=\"jet\" ,shading='nearest')\n",
    "c=plt.colorbar(cs)"
   ]
  },
  {
   "cell_type": "code",
   "execution_count": null,
   "metadata": {},
   "outputs": [],
   "source": [
    "fig1, (f1ax1) = plt.subplots(1, 1, figsize = (11,8))\n",
    "divider = make_axes_locatable(f1ax1)\n",
    "cax = divider.append_axes('right', size='1%', pad=0.05)\n",
    "colorinfo = f1ax1.pcolormesh(x, y, data, shading='nearest',cmap='jet')\n",
    "fig1.colorbar(colorinfo, cax=cax)"
   ]
  },
  {
   "cell_type": "code",
   "execution_count": null,
   "metadata": {
    "tags": []
   },
   "outputs": [],
   "source": [
    "from pyhdf.SD import SD, SDC\n",
    "\n",
    "FILE_NAME = \"AIRS.2008.05.04.L3.RetStd001.v7.0.3.0.G20189194322.hdf\"\n",
    "\n",
    "# Open file.\n",
    "hdf = SD(FILE_NAME, SDC.READ)\n",
    "print(hdf.datasets().keys())"
   ]
  },
  {
   "cell_type": "code",
   "execution_count": null,
   "metadata": {},
   "outputs": [],
   "source": []
  }
 ]
}