{
  "nbformat": 4,
  "nbformat_minor": 0,
  "metadata": {
    "language_info": {
      "codemirror_mode": {
        "name": "ipython",
        "version": 3
      },
      "file_extension": ".py",
      "mimetype": "text/x-python",
      "name": "python",
      "nbconvert_exporter": "python",
      "pygments_lexer": "ipython3",
      "version": "3.8.5-final"
    },
    "orig_nbformat": 2,
    "kernelspec": {
      "name": "python385jvsc74a57bd031f2aee4e71d21fbe5cf8b01ff0e069b9275f58929596ceb00d14d90e3e16cd6",
      "display_name": "Python 3.8.5 64-bit"
    },
    "metadata": {
      "interpreter": {
        "hash": "31f2aee4e71d21fbe5cf8b01ff0e069b9275f58929596ceb00d14d90e3e16cd6"
      }
    },
    "colab": {
      "name": "main.ipynb",
      "provenance": [],
      "collapsed_sections": []
    }
  },
  "cells": [
    {
      "cell_type": "code",
      "metadata": {
        "colab": {
          "base_uri": "https://localhost:8080/"
        },
        "id": "c-GmgUIn9uYU",
        "outputId": "9db0dd0d-93d0-4fa5-e160-a55c1f70502b"
      },
      "source": [
        "from google.colab import drive\n",
        "drive.mount(\"/content/drive\")"
      ],
      "execution_count": 1,
      "outputs": [
        {
          "output_type": "stream",
          "text": [
            "Mounted at /content/drive\n"
          ],
          "name": "stdout"
        }
      ]
    },
    {
      "cell_type": "code",
      "metadata": {
        "colab": {
          "base_uri": "https://localhost:8080/",
          "height": 922
        },
        "id": "_D4YtUEB9yvG",
        "outputId": "f5eb33e5-8831-48c8-d537-6f1d5f3f8395"
      },
      "source": [
        "!apt-get install libgeos-3.5.0\n",
        "!apt-get install libgeos-dev\n",
        "!pip install https://github.com/matplotlib/basemap/archive/master.zip\n",
        "!pip install http://sourceforge.net/projects/matplotlib/files/matplotlib-toolkits/"
      ],
      "execution_count": 2,
      "outputs": [
        {
          "output_type": "stream",
          "text": [
            "Reading package lists... Done\n",
            "Building dependency tree       \n",
            "Reading state information... Done\n",
            "E: Unable to locate package libgeos-3.5.0\n",
            "E: Couldn't find any package by glob 'libgeos-3.5.0'\n",
            "E: Couldn't find any package by regex 'libgeos-3.5.0'\n",
            "Reading package lists... Done\n",
            "Building dependency tree       \n",
            "Reading state information... Done\n",
            "libgeos-dev is already the newest version (3.6.2-1build2).\n",
            "libgeos-dev set to manually installed.\n",
            "The following package was automatically installed and is no longer required:\n",
            "  libnvidia-common-460\n",
            "Use 'apt autoremove' to remove it.\n",
            "0 upgraded, 0 newly installed, 0 to remove and 34 not upgraded.\n",
            "Collecting https://github.com/matplotlib/basemap/archive/master.zip\n",
            "\u001b[?25l  Downloading https://github.com/matplotlib/basemap/archive/master.zip\n",
            "\u001b[K     \\ 146.7MB 98.3MB/s\n",
            "\u001b[?25hRequirement already satisfied: matplotlib!=3.0.1,>=1.0.0 in /usr/local/lib/python3.7/dist-packages (from basemap==1.2.2+dev) (3.2.2)\n",
            "Requirement already satisfied: numpy>=1.2.1 in /usr/local/lib/python3.7/dist-packages (from basemap==1.2.2+dev) (1.19.5)\n",
            "Collecting pyproj>=1.9.3\n",
            "\u001b[?25l  Downloading https://files.pythonhosted.org/packages/b1/72/d52e9ca81caef056062d71991b0e9b1d16af042245627c5d0e4916a36c4f/pyproj-3.0.1-cp37-cp37m-manylinux2010_x86_64.whl (6.5MB)\n",
            "\u001b[K     |████████████████████████████████| 6.5MB 6.2MB/s \n",
            "\u001b[?25hCollecting pyshp>=1.2.0\n",
            "\u001b[?25l  Downloading https://files.pythonhosted.org/packages/38/85/fbf87e7aa55103e0d06af756bdbc15cf821fa580414c23142d60a35d4f85/pyshp-2.1.3.tar.gz (219kB)\n",
            "\u001b[K     |████████████████████████████████| 225kB 42.1MB/s \n",
            "\u001b[?25hRequirement already satisfied: six in /usr/local/lib/python3.7/dist-packages (from basemap==1.2.2+dev) (1.15.0)\n",
            "Requirement already satisfied: python-dateutil>=2.1 in /usr/local/lib/python3.7/dist-packages (from matplotlib!=3.0.1,>=1.0.0->basemap==1.2.2+dev) (2.8.1)\n",
            "Requirement already satisfied: cycler>=0.10 in /usr/local/lib/python3.7/dist-packages (from matplotlib!=3.0.1,>=1.0.0->basemap==1.2.2+dev) (0.10.0)\n",
            "Requirement already satisfied: pyparsing!=2.0.4,!=2.1.2,!=2.1.6,>=2.0.1 in /usr/local/lib/python3.7/dist-packages (from matplotlib!=3.0.1,>=1.0.0->basemap==1.2.2+dev) (2.4.7)\n",
            "Requirement already satisfied: kiwisolver>=1.0.1 in /usr/local/lib/python3.7/dist-packages (from matplotlib!=3.0.1,>=1.0.0->basemap==1.2.2+dev) (1.3.1)\n",
            "Requirement already satisfied: certifi in /usr/local/lib/python3.7/dist-packages (from pyproj>=1.9.3->basemap==1.2.2+dev) (2020.12.5)\n",
            "Building wheels for collected packages: basemap, pyshp\n",
            "  Building wheel for basemap (setup.py) ... \u001b[?25l\u001b[?25hdone\n",
            "  Created wheel for basemap: filename=basemap-1.2.2+dev-cp37-cp37m-linux_x86_64.whl size=121759568 sha256=b314107c95398d9613aa0ccb0c0dbe1ef6c91aedf02fd009753723651e5c0d47\n",
            "  Stored in directory: /tmp/pip-ephem-wheel-cache-8kxykzge/wheels/98/4a/fc/ce719b75d97e646645c225f3332b1b217536100314922e9572\n",
            "  Building wheel for pyshp (setup.py) ... \u001b[?25l\u001b[?25hdone\n",
            "  Created wheel for pyshp: filename=pyshp-2.1.3-cp37-none-any.whl size=37264 sha256=f55d9b4d0fb700d52c6e39512d27b47b8c29b8b5fb7f95644593ce34499c0527\n",
            "  Stored in directory: /root/.cache/pip/wheels/76/2b/d4/53e6b9a0fb0a9f9f29664cf82605af8bc81d5ab44d987896dd\n",
            "Successfully built basemap pyshp\n",
            "Installing collected packages: pyproj, pyshp, basemap\n",
            "Successfully installed basemap-1.2.2+dev pyproj-3.0.1 pyshp-2.1.3\n"
          ],
          "name": "stdout"
        },
        {
          "output_type": "display_data",
          "data": {
            "application/vnd.colab-display-data+json": {
              "pip_warning": {
                "packages": [
                  "mpl_toolkits"
                ]
              }
            }
          },
          "metadata": {
            "tags": []
          }
        },
        {
          "output_type": "stream",
          "text": [
            "Collecting http://sourceforge.net/projects/matplotlib/files/matplotlib-toolkits/\n",
            "\u001b[?25l  Downloading http://sourceforge.net/projects/matplotlib/files/matplotlib-toolkits/ (248kB)\n",
            "\u001b[K     |████████████████████████████████| 256kB 627kB/s \n",
            "\u001b[31m  ERROR: Cannot unpack file /tmp/pip-unpack-zid8o6x2/matplotlib-toolkits (downloaded from /tmp/pip-req-build-86pft6ml, content-type: text/html; charset=utf-8); cannot detect archive format\u001b[0m\n",
            "\u001b[31mERROR: Cannot determine archive format of /tmp/pip-req-build-86pft6ml\u001b[0m\n",
            "\u001b[?25h"
          ],
          "name": "stdout"
        }
      ]
    },
    {
      "cell_type": "code",
      "metadata": {
        "colab": {
          "base_uri": "https://localhost:8080/"
        },
        "id": "-IBQsn7cAe43",
        "outputId": "10bf61a3-0c75-4d33-fe8c-016f109080fc"
      },
      "source": [
        "!pip install netcdf4\n",
        "!pip install pyMCR\n",
        "!pip install geopandas"
      ],
      "execution_count": null,
      "outputs": [
        {
          "output_type": "stream",
          "text": [
            "Collecting netcdf4\n",
            "\u001b[?25l  Downloading https://files.pythonhosted.org/packages/37/56/f65978898fb8e7e5df9c67531d86eb24eb04938deae3b61dbcce12c98212/netCDF4-1.5.6-cp37-cp37m-manylinux2014_x86_64.whl (4.7MB)\n",
            "\u001b[K     |████████████████████████████████| 4.7MB 7.6MB/s \n",
            "\u001b[?25hCollecting cftime\n",
            "\u001b[?25l  Downloading https://files.pythonhosted.org/packages/41/e0/3e120cca16571c5ee3b35f1ed432c2aae5dc91e2b789e8b9c3a70e721ea0/cftime-1.4.1-cp37-cp37m-manylinux2014_x86_64.whl (313kB)\n",
            "\u001b[K     |████████████████████████████████| 317kB 42.0MB/s \n",
            "\u001b[?25hRequirement already satisfied: numpy>=1.9 in /usr/local/lib/python3.7/dist-packages (from netcdf4) (1.19.5)\n",
            "Installing collected packages: cftime, netcdf4\n",
            "Successfully installed cftime-1.4.1 netcdf4-1.5.6\n",
            "Collecting pyMCR\n",
            "\u001b[?25l  Downloading https://files.pythonhosted.org/packages/bc/84/7b89a98d77727779de19847a02f0954552e36d6e70803e9b27ee2858392a/pyMCR-0.3.2.tar.gz (914kB)\n",
            "\u001b[K     |████████████████████████████████| 921kB 6.6MB/s \n",
            "\u001b[?25hRequirement already satisfied: numpy in /usr/local/lib/python3.7/dist-packages (from pyMCR) (1.19.5)\n",
            "Requirement already satisfied: scipy in /usr/local/lib/python3.7/dist-packages (from pyMCR) (1.4.1)\n",
            "Building wheels for collected packages: pyMCR\n",
            "  Building wheel for pyMCR (setup.py) ... \u001b[?25l\u001b[?25hdone\n",
            "  Created wheel for pyMCR: filename=pyMCR-0.3.2-cp37-none-any.whl size=26472 sha256=71e53585a2ad64c4476401548b9510f8d4dba213aa4854b5ec6efb7f76de1445\n",
            "  Stored in directory: /root/.cache/pip/wheels/bf/61/c2/59ca0fb0ad90a9f608586e960a20e03449982e39d88ab2be2f\n",
            "Successfully built pyMCR\n",
            "Installing collected packages: pyMCR\n",
            "Successfully installed pyMCR-0.3.2\n",
            "Collecting geopandas\n",
            "\u001b[?25l  Downloading https://files.pythonhosted.org/packages/d7/bf/e9cefb69d39155d122b6ddca53893b61535fa6ffdad70bf5ef708977f53f/geopandas-0.9.0-py2.py3-none-any.whl (994kB)\n",
            "\u001b[K     |████████████████████████████████| 1.0MB 8.1MB/s \n",
            "\u001b[?25hRequirement already satisfied: pyproj>=2.2.0 in /usr/local/lib/python3.7/dist-packages (from geopandas) (3.0.1)\n",
            "Requirement already satisfied: pandas>=0.24.0 in /usr/local/lib/python3.7/dist-packages (from geopandas) (1.1.5)\n",
            "Requirement already satisfied: shapely>=1.6 in /usr/local/lib/python3.7/dist-packages (from geopandas) (1.7.1)\n",
            "Collecting fiona>=1.8\n",
            "\u001b[?25l  Downloading https://files.pythonhosted.org/packages/ea/2a/404b22883298a3efe9c6ef8d67acbf2c38443fa366ee9cd4cd34e17626ea/Fiona-1.8.19-cp37-cp37m-manylinux1_x86_64.whl (15.3MB)\n",
            "\u001b[K     |████████████████████████████████| 15.3MB 267kB/s \n",
            "\u001b[?25hRequirement already satisfied: certifi in /usr/local/lib/python3.7/dist-packages (from pyproj>=2.2.0->geopandas) (2020.12.5)\n",
            "Requirement already satisfied: numpy>=1.15.4 in /usr/local/lib/python3.7/dist-packages (from pandas>=0.24.0->geopandas) (1.19.5)\n",
            "Requirement already satisfied: pytz>=2017.2 in /usr/local/lib/python3.7/dist-packages (from pandas>=0.24.0->geopandas) (2018.9)\n",
            "Requirement already satisfied: python-dateutil>=2.7.3 in /usr/local/lib/python3.7/dist-packages (from pandas>=0.24.0->geopandas) (2.8.1)\n",
            "Requirement already satisfied: click<8,>=4.0 in /usr/local/lib/python3.7/dist-packages (from fiona>=1.8->geopandas) (7.1.2)\n",
            "Collecting click-plugins>=1.0\n",
            "  Downloading https://files.pythonhosted.org/packages/e9/da/824b92d9942f4e472702488857914bdd50f73021efea15b4cad9aca8ecef/click_plugins-1.1.1-py2.py3-none-any.whl\n",
            "Requirement already satisfied: six>=1.7 in /usr/local/lib/python3.7/dist-packages (from fiona>=1.8->geopandas) (1.15.0)\n",
            "Requirement already satisfied: attrs>=17 in /usr/local/lib/python3.7/dist-packages (from fiona>=1.8->geopandas) (20.3.0)\n",
            "Collecting cligj>=0.5\n",
            "  Downloading https://files.pythonhosted.org/packages/42/1e/947eadf10d6804bf276eb8a038bd5307996dceaaa41cfd21b7a15ec62f5d/cligj-0.7.1-py3-none-any.whl\n",
            "Collecting munch\n",
            "  Downloading https://files.pythonhosted.org/packages/cc/ab/85d8da5c9a45e072301beb37ad7f833cd344e04c817d97e0cc75681d248f/munch-2.5.0-py2.py3-none-any.whl\n",
            "Installing collected packages: click-plugins, cligj, munch, fiona, geopandas\n",
            "Successfully installed click-plugins-1.1.1 cligj-0.7.1 fiona-1.8.19 geopandas-0.9.0 munch-2.5.0\n"
          ],
          "name": "stdout"
        }
      ]
    },
    {
      "cell_type": "markdown",
      "metadata": {
        "id": "gpkk3ItjmObV"
      },
      "source": [
        "# Libraries"
      ]
    },
    {
      "cell_type": "code",
      "metadata": {
        "id": "TLq_glH_-WsR"
      },
      "source": [
        "#!/bin/env python\n",
        "import sys\n",
        "import glob\n",
        "import os\n",
        "import re\n",
        "import numpy as np\n",
        "import numpy.ma as ma\n",
        "import matplotlib\n",
        "#matplotlib.use('Agg')\n",
        "import matplotlib.pyplot as plt\n",
        "#plt.rcParams.update({'figure.max_open_warning': 0})\n",
        "import matplotlib.colors as mcolors\n",
        "from matplotlib.colors import ListedColormap\n",
        "from scipy.interpolate import griddata\n",
        "import torch\n",
        "from mpl_toolkits.mplot3d import Axes3D\n",
        "from PIL import Image\n",
        "from skimage import measure, transform\n",
        "#from skimage.segmentation import slic\n",
        "#from skimage.segmentation import mark_boundaries\n",
        "from skimage import io\n",
        "from skimage import data, segmentation, color\n",
        "from scipy.ndimage import label\n",
        "from scipy.spatial import distance\n",
        "from scipy import ndimage\n",
        "from shapely.geometry import Point, LineString, Polygon, LinearRing, MultiPoint\n",
        "from descartes import PolygonPatch\n",
        "import networkx as nx\n",
        "import tarfile\n",
        "import string\n",
        "import calendar\n",
        "import cv2\n",
        "from google.colab.patches import cv2_imshow\n",
        "from mpl_toolkits.basemap import Basemap,cm\n",
        "from mpl_toolkits.axes_grid1 import make_axes_locatable\n",
        "import netCDF4\n",
        "from geopandas import GeoSeries\n",
        "from sklearn.neighbors import NearestNeighbors\n",
        "from sklearn.cluster import KMeans\n",
        "import seaborn as sns\n",
        "\n"
      ],
      "execution_count": null,
      "outputs": []
    },
    {
      "cell_type": "code",
      "metadata": {
        "id": "N4c9nYyv9UG7"
      },
      "source": [
        "DIR_DATA = '/content/drive/MyDrive/StageUParis/DATA/H2O/'\n",
        "DIR_TRAIN = '/content/drive/MyDrive/StageUParis/DATA/LABELS/'\n",
        "DIR_TEST = '/content/drive/MyDrive/StageUParis/Test/'"
      ],
      "execution_count": null,
      "outputs": []
    },
    {
      "cell_type": "markdown",
      "metadata": {
        "id": "tbCA-VZvjXx1"
      },
      "source": [
        "# Class **SplitImageLevels**"
      ]
    },
    {
      "cell_type": "code",
      "metadata": {
        "id": "vN6hutccKQ1a"
      },
      "source": [
        "class SplitImageLevels():  \n",
        "  image_type = \"LT\"\n",
        "  year = 2008\n",
        "  month = 5\n",
        "  day = 1\n",
        "\n",
        "  degree = 0.625\n",
        "  pixel_size = 0.3125\n",
        "  vmax = 35\n",
        "  vmin = 0\n",
        "\n",
        "  weight_gray_values = 1\n",
        "  N_CLUSTERS = 2\n",
        "\n",
        "  images = list()\n",
        "\n",
        "  def __init__ (self,DIR_DATA=DIR_DATA, DIR_TRAIN=DIR_TRAIN):\n",
        "    self.DIR_DATA = DIR_DATA\n",
        "    self.DIR_TRAIN = DIR_TRAIN\n",
        "\n",
        "\n",
        "\n",
        "\n",
        "\n",
        "  ############################################################################\n",
        "  ####                      GETTERS AND SETTERS\n",
        "  ############################################################################\n",
        "\n",
        "  def set_DIR_DATA (self, DIR_DATA):\n",
        "    self.DIR_DATA = DIR_DATA\n",
        "\n",
        "  def get_DIR_DATA (self):\n",
        "    return self.DIR_DATA\n",
        "\n",
        "  def set_DIR_TRAIN (self, DIR_TRAIN):\n",
        "    self.DIR_TRAIN = DIR_TRAIN\n",
        "  \n",
        "  def get_DIR_TRAIN (self):\n",
        "    return self.DIR_TRAIN\n",
        "\n",
        "  def set_DIR_TEST (self, DIR_TEST):\n",
        "    self.DIR_TEST = DIR_TEST\n",
        "\n",
        "  def get_DIR_TEST (self):\n",
        "    return self.DIR_TEST\n",
        "\n",
        "  def set_year(self,year):\n",
        "    self.year = year\n",
        "\n",
        "  def get_year(self):\n",
        "    return self.year\n",
        "  \n",
        "  def set_month(self,month):\n",
        "    self.month = month\n",
        "  \n",
        "  def get_month(self):\n",
        "    return self.month\n",
        "\n",
        "  def set_day(self,day):\n",
        "    self.day = day\n",
        "\n",
        "  def get_day(self):\n",
        "    return self.day\n",
        "\n",
        "  def set_image_type(self,image_type):\n",
        "    self.image_type = image_type\n",
        "\n",
        "  def get_image_type(self):\n",
        "    return self.image_type\n",
        "\n",
        "  def set_image_name(self,image_name):\n",
        "    self.image_name = image_name\n",
        "\n",
        "  def get_image_name(self):\n",
        "    return self.image_name\n",
        "\n",
        "  def set_pixel_size(self, degree, size):\n",
        "    self.degree = degree\n",
        "    self.pixel_size = size\n",
        "\n",
        "  def set_region_area(self, max_area, min_area):\n",
        "    self.max_area = max_area\n",
        "    self.min_area = min_area\n",
        "\n",
        "  def set_weight_gray_values(self, weight_gray_values):\n",
        "    self.weight_gray_values = weight_gray_values\n",
        "\n",
        "  def set_cluster_value (self, N_CLUSTERS):\n",
        "    self.N_CLUSTERS = N_CLUSTERS\n",
        "\n",
        "  def get_cluster_value(self):\n",
        "    return self.N_CLUSTERS\n",
        "\n",
        "\n",
        "\n",
        "\n",
        "\n",
        "\n",
        "  ############################################################################\n",
        "  ####                        READ THE DATA\n",
        "  ############################################################################\n",
        "\n",
        "  def get_image_by_leves (self):\n",
        "    #for index, layer in enumerate(np.arange(self.start, self.end, self.steps)):\n",
        "    index = 0\n",
        "    \n",
        "    lat_g = np.arange(20.,50.,self.degree)\n",
        "    lon_g = np.arange(100.,150.,self.degree)\n",
        "\n",
        "    #initialization\n",
        "    self.colgrid = np.zeros([lat_g.shape[0],lon_g.shape[0]], np.uint8)\n",
        "\n",
        "    for year in range(self.year, self.year + 1):\n",
        "      for month in range(self.month, self.month + 1):\n",
        "        for day in range(self.day, self.day + 1):\n",
        "\n",
        "          fname = self.DIR_DATA + 'IASIdaily_' + str(year) + '%02d'%month+'%02d'%day+'.nc'\n",
        "          self.image_name = self.image_type + '-level-' + str(year) + '%02d'%month+'%02d'%day+'.png'\n",
        "\n",
        "          print('reading info ...')\n",
        "\n",
        "          if not(os.path.isfile(fname)):\n",
        "            continue\n",
        "\n",
        "          nc = netCDF4.Dataset(fname)\n",
        "          flag = nc.variables['flag'][:]\n",
        "          mask1 = (flag == 0) # Without clouds\n",
        "          \n",
        "          lat = nc.variables['lat'][mask1]\n",
        "          lon = nc.variables['lon'][mask1]\n",
        "          col = nc.variables[self.image_type][mask1]\n",
        "          nc.close()\n",
        "\n",
        "          mask2 = (np.isnan(col) == False) \n",
        "\n",
        "          # gridding the data\n",
        "          for ilat in range(lat_g.shape[0]):\n",
        "            for ilon in range(lon_g.shape[0]):\n",
        "              # Grille régulier\n",
        "              # 25 km\n",
        "              # 0 25 degrée lattitude et longitude\n",
        "\n",
        "              # Grille regulier of 0.125 degree\n",
        "              maskgrid = (lat[:] >= (lat_g[ilat] - self.pixel_size)) & (lat[:] < (lat_g[ilat] + self.pixel_size)) & (lon[:] >= (lon_g[ilon] - self.pixel_size)) & (lon[:] < (lon_g[ilon] + self.pixel_size))\n",
        "              \n",
        "              # Defining invalid data\n",
        "              mask = mask2 & maskgrid\n",
        "\n",
        "              if len(col[mask]) != 0:\n",
        "                median = np.mean(col[mask])\n",
        "                #if median >= layer:\n",
        "                self.colgrid[ilat,ilon] = median\n",
        "\n",
        "          print('data readed correctly')\n",
        "\n",
        "          # We mark the values at colgrid as invalid because they are maybe false positives or bad sampling\n",
        "          self.colgrid1 = ma.masked_values(self.colgrid, 0.)\n",
        "\n",
        "          self.v_x, self.v_y = np.meshgrid(lon_g, lat_g)\n",
        "          gradx, grady = np.gradient(self.colgrid, edge_order=1)\n",
        "\n",
        "          fig, (ax1) = plt.subplots(1, 1, figsize = (11,8))\n",
        "          ax1.pcolormesh(self.v_x, self.v_y, self.colgrid, shading='nearest',cmap='gray', vmin=self.vmin, vmax=self.vmax)\n",
        "          ax1.axis('off')\n",
        "          fig.savefig(self.image_name, bbox_inches='tight', pad_inches=0)\n",
        "          plt.close(fig)\n",
        "\n",
        "\n",
        "\n",
        "\n",
        "\n",
        "\n",
        "\n",
        "\n",
        "  ###############################################################\n",
        "  ###             LOAD IMAGE INFORMATION\n",
        "  ###############################################################\n",
        "\n",
        "  def load_image_from_files (self, filename):\n",
        "    img_bgr = io.imread(filename) \n",
        "    gray = cv2.cvtColor(img_bgr, cv2.COLOR_BGR2GRAY)\n",
        "\n",
        "    return img_bgr, gray\n",
        "\n",
        "\n",
        "\n",
        "  def process_set_images(self, image, image_color):\n",
        "    image, _, background = self.filter_image(image)\n",
        "    regions, _ = self.get_mser_regions(image)\n",
        "    \n",
        "    regx, regy, polys, lines, values = self.set_mser_regions(image, background, regions[:])\n",
        "    #self.divide_regions(image,regx, regy, polys, lines, values)\n",
        "    labels, centers = self.classify_neighbors(image, regx, regy,polys, values)\n",
        "    self.plot_mser_final_regions(image, regx, regy, values)\n",
        "    \n",
        "    #self.show_mser_red_regions(image, regions[:], labels)\n",
        "    #polys = self.classify_regions(image,poly[:])\n",
        "    #polys = self.classify_all_regions(image, poly[:])\n",
        "    #self.plot_mser_regions_3d(regx, regy, values, labels)\n",
        "    \n",
        "\n",
        "\n",
        "\n",
        "\n",
        "\n",
        "\n",
        "\n",
        "  ###############################################################\n",
        "  ###             TRAITEMENT\n",
        "  ###############################################################\n",
        "\n",
        "  def get_pollution_image_reference(self, image):\n",
        "\n",
        "    image_hsv = cv2.cvtColor(image, cv2.COLOR_BGR2HSV)\n",
        "    \n",
        "    # Search Pollution:\n",
        "    reds_colors = np.array([255,0,0], dtype=np.uint8)\n",
        "    #high_reds_colors = np.array([130, 255, 255], dtype=np.uint8)\n",
        "\n",
        "    # Search Mix:\n",
        "    low_blues_colors = np.array([100,65,75], dtype=np.uint8)\n",
        "    high_blues_colors = np.array([130, 255, 255], dtype=np.uint8)\n",
        "    \n",
        "    pollution_mask = cv2.inRange(image_hsv, reds_colors, reds_colors)\n",
        "\n",
        "    print(\"pollution mask\", pollution_mask)\n",
        "    \n",
        "    # Momentos\n",
        "    #moments = cv2.moments(mascara_azul)\n",
        "    #area = int(moments['m00'])\n",
        "    #print(\"Pixeles activos \"+str(area) +\" pixeles\")\n",
        "\n",
        "\n",
        "  def resize_image_percentage (self, image, scale_percent = 100):\n",
        "    ### SCALE\n",
        "    width = int(image.shape[1] * scale_percent / 100)\n",
        "    height = int(image.shape[0] * scale_percent / 100)\n",
        "    dim = (width, height)\n",
        "    image = cv2.resize(image, dim, interpolation = cv2.INTER_AREA)\n",
        "\n",
        "    return image\n",
        "\n",
        "  def normalize_image(self, image):\n",
        "    return cv2.normalize(image, np.ones((image.shape[0], image.shape[0])) , 0, 255, cv2.NORM_MINMAX )\n",
        "\n",
        "  def pretraitement_image(self, image, kernel_size = 9, iterations=3):\n",
        "    ### MORPHO FILTERS\n",
        "    kernel = np.ones((kernel_size,kernel_size),np.uint8)\n",
        "    image = cv2.morphologyEx(image, cv2.MORPH_CLOSE, kernel, iterations = iterations)\n",
        "\n",
        "    return image\n",
        "\n",
        "  ## REMOVING THE HOLES\n",
        "  def masking_interest_region(self, image):\n",
        "    # Take the holes (pixels value = 0) and set it as 255\n",
        "    image = cv2.normalize(image, np.ones((image.shape[0], image.shape[0])) , self.vmin, self.vmax, cv2.NORM_MINMAX )\n",
        "    image = np.where(image == 0, 255, image) \n",
        "    image = np.where(image != 255, 0, image) # This is the mask of the background\n",
        "    image_holes_dilate = cv2.morphologyEx(image, cv2.MORPH_DILATE, np.ones((3,3),np.uint8), iterations = 3)\n",
        "    image_holes_dilate_inv = cv2.bitwise_not(image_holes_dilate) # This is the mask of the foreground\n",
        "\n",
        "    return image_holes_dilate, image_holes_dilate_inv\n",
        "\n",
        "  def find_edges (self, image):\n",
        "    ## Below code convert image gradient in both x and y direction\n",
        "    image = cv2.Laplacian(image, cv2.CV_64F, ksize=3) \n",
        "    image = np.uint8(np.absolute(image))\n",
        "    #image_laplacian = cv2.bitwise_and(image_laplacian,image_laplacian,mask = image_holes_dilate_inv)\n",
        "\n",
        "    return image\n",
        "\n",
        "\n",
        "  def filter_image (self, image):\n",
        "    image = self.resize_image_percentage(image, 100)\n",
        "    image = self.pretraitement_image(image,6,3)\n",
        "    background, foreground = self.masking_interest_region(image)\n",
        "    \n",
        "    return image, foreground, background\n",
        "\n",
        "  def get_mser_regions(self, image, vmin=300,vmax=50000):\n",
        "    mser = cv2.MSER_create(1, vmin, vmax, .25, 1., 1000, 1.001, 0.003, 5)\n",
        "    #(1, 100, 20000, .25, 1., 1000, 1.001, 0.003, 5)\n",
        "   \n",
        "    #fig, ax = plt.subplots(1,1)\n",
        "    #colorinfo = ax.imshow(image, cmap='gray')\n",
        "    #fig.colorbar(colorinfo)\n",
        "\n",
        "    regions, bboxes = mser.detectRegions(image)\n",
        "    regions = sorted(regions, key=cv2.contourArea, reverse=True)\n",
        "\n",
        "    return regions, bboxes\n",
        "\n",
        "\n",
        "\n",
        "\n",
        "\n",
        "\n",
        "\n",
        "  ###############################################################\n",
        "  ###             PLOTTING\n",
        "  ###############################################################\n",
        "\n",
        "  def show_mser_red_regions(self, image, regions, labels):\n",
        "    image = cv2.cvtColor(image, cv2.COLOR_BGRA2BGR)\n",
        "    #colors = np.array([(255,0,0),[(0,255,0),(0,0,255),(0,255,255),(255,255,0),(100,0,100),(24,180,0)])\n",
        "    colors = list([(255,0,0),(0,255,0),(0,0,255),(0,255,255),(255,255,0),(100,0,100),(24,180,0)])\n",
        "\n",
        "    #for i in labels:\n",
        "    #  print(colors[i])\n",
        "\n",
        "    #for l in labels:\n",
        "    for i, p in enumerate(regions[:]):\n",
        "      if i == (len(regions[:3]) - 1):\n",
        "        color = (255,0,0)\n",
        "      elif i == (len(regions[:3]) - 2):\n",
        "        color = (0,0,255)\n",
        "      else:\n",
        "        color = (0,255,0)\n",
        "\n",
        "      #print(\"color\", color, \"for\", i)\n",
        "      for k in p:\n",
        "        cv2.circle(image, (k[0],k[1]), radius=0, color=color, thickness=-1)\n",
        "\n",
        "    fig, ax = plt.subplots(1,1)\n",
        "    ax.imshow(image)\n",
        "    #ax.invert_yaxis()\n",
        "\n",
        "\n",
        "\n",
        "\n",
        "\n",
        "\n",
        "\n",
        "\n",
        "\n",
        "\n",
        "\n",
        "\n",
        "  def set_mser_regions(self, image, background, regions):\n",
        "    regsX = list()\n",
        "    regsY = list()\n",
        "    regsPoly = list()\n",
        "    regsLine = list()\n",
        "    values_gray = list()\n",
        "\n",
        "    for j,r in enumerate(regions):\n",
        "      region = list()\n",
        "      hull = cv2.convexHull(r)\n",
        "\n",
        "      for h in hull:\n",
        "          region.append(h[0].tolist())\n",
        "\n",
        "      region.append(region[0])\n",
        "      poly = Polygon(region)\n",
        "      line = LineString(region)\n",
        "      value_pixel = self.get_region_value(image,poly)\n",
        "\n",
        "      xs = [pnt[0] if background[pnt[1],pnt[0]] != 255 else 0 for pnt in r[:]]\n",
        "      ys = [pnt[1] if background[pnt[1],pnt[0]] != 255 else 0 for pnt in r[:]]\n",
        "      #xs = [pnt[0] for pnt in r]\n",
        "      #ys = [pnt[1] for pnt in r]\n",
        "\n",
        "      regsX.append(xs)\n",
        "      regsY.append(ys)\n",
        "      regsPoly.append(poly)\n",
        "      regsLine.append(line)\n",
        "      values_gray.append(value_pixel)\n",
        "\n",
        "    return regsX, regsY, regsPoly, regsLine, values_gray\n",
        "\n",
        "  def export_current_region (self, image, regsX, regsY, filename=\"image-temp.png\"):\n",
        "    x_range = [0, image.shape[1]]\n",
        "    y_range = [0, image.shape[0]]\n",
        "\n",
        "    fig, ax1 = plt.subplots(1, 1, figsize=(11,8))\n",
        "    ax1.scatter(regsX,regsY, cmap=\"gray\")\n",
        "    ax1.set_xlim(*x_range)\n",
        "    ax1.set_ylim(*y_range)\n",
        "    ax1.invert_yaxis()\n",
        "    ax1.axis('off')\n",
        "    fig.savefig(filename, bbox_inches='tight', pad_inches=0)\n",
        "    plt.close(fig)\n",
        "\n",
        "  def slic_regions(self,image,mask,compactness=50,n_segments=150):\n",
        "    image = cv2.cvtColor(image, cv2.COLOR_BGR2RGB)\n",
        "    # compactness=compactness,\n",
        "    labels_1 = segmentation.slic(image,n_segments=n_segments)\n",
        "    out_1 = color.label2rgb(labels_1, image, kind='avg', bg_label=0)\n",
        "    out_1 = cv2.cvtColor(out_1, cv2.COLOR_RGB2GRAY)\n",
        "    out_1 = cv2.bitwise_and(out_1,out_1,mask=mask)\n",
        "\n",
        "    fig, ax = plt.subplots(1, 1)\n",
        "    ax.imshow(out_1, cmap=\"gray\")\n",
        "    ax.set_title(\"SLIC\")\n",
        "\n",
        "    return out_1\n",
        "    \n",
        "\n",
        "  def divide_regions(self, image, regx, regy, polys, lines, values):\n",
        "    xx_range = [0, image.shape[1]]\n",
        "    yy_range = [0, image.shape[0]]\n",
        "\n",
        "    areas = list()\n",
        "    for p in polys:\n",
        "      areas.append(p.area)\n",
        "\n",
        "    x_range = [100, 150, 10]\n",
        "    y_range = [20, 48, 5]\n",
        "\n",
        "    fig, ax = plt.subplots(1,1)\n",
        "    m=Basemap(llcrnrlon=100.,llcrnrlat=20.,urcrnrlon=150.,urcrnrlat=48.,resolution='i')\n",
        "    m.drawcoastlines()\n",
        "    m.drawmapboundary()\n",
        "    m.drawmeridians(np.r_[100:151:10], labels=[0,0,0,1], color='grey',fontsize=8,linewidth=0)\n",
        "    m.drawparallels(np.r_[20:48:5], labels=[1,0,0,0], color='grey',fontsize=8,linewidth=0)\n",
        "\n",
        "    fig0, ax0 = plt.subplots(1,1)\n",
        "    fig3, ax3 = plt.subplots(1,1)\n",
        "    m=Basemap(llcrnrlon=100.,llcrnrlat=20.,urcrnrlon=150.,urcrnrlat=48.,resolution='i')\n",
        "    m.drawcoastlines()\n",
        "    m.drawmapboundary()\n",
        "    m.drawmeridians(np.r_[100:151:10], labels=[0,0,0,1], color='grey',fontsize=8,linewidth=0)\n",
        "    m.drawparallels(np.r_[20:48:5], labels=[1,0,0,0], color='grey',fontsize=8,linewidth=0)\n",
        "    for i,line in enumerate(lines):\n",
        "      area = polys[i].area\n",
        "      mean_areas = np.mean(areas)\n",
        "      if area > mean_areas and area > 30000.:\n",
        "        mean_value = np.mean(values)\n",
        "        if values[i] > mean_value:\n",
        "          x, y = line.xy\n",
        "          filename = \"image-temp-\"+ str(i) +\".png\"\n",
        "          self.export_current_region(image, regx[i] ,regy[i], filename )\n",
        "          im, im_gray = self.load_image_from_files(filename)\n",
        "          im_gray = cv2.bitwise_not(im_gray)\n",
        "\n",
        "          # SLIC\n",
        "          img_slic = self.slic_regions(image,im_gray)\n",
        "\n",
        "          img_temp = img_slic.copy()\n",
        "          img_temp = cv2.cvtColor(img_temp, cv2.COLOR_GRAY2RGB)\n",
        "\n",
        "          # MSER\n",
        "          reg2, _ = self.get_mser_regions(img_temp,100,20000)\n",
        "          #mser = cv2.MSER_create(1, 100, 20000, .25, 1., 1000, 1.001, 0.003, 5)\n",
        "          #reg2, _ = mser.detectRegions(img_temp)\n",
        "          #reg2 = sorted(reg2, key=cv2.contourArea, reverse=True)\n",
        "\n",
        "          #for p in reg2[:]:\n",
        "          #  for k in p:\n",
        "          #    cv2.circle(img_temp, (k[0],k[1]), radius=0, color=(0, 0, 255), thickness=-1)\n",
        "          #ax3.imshow(img_temp)\n",
        "\n",
        "          # PLOT\n",
        "          rx, ry, ps, ls, vs = self.set_mser_regions(image, background, reg2)\n",
        "          \n",
        "          #self.plot_mser_final_regions(image, rx, ry, vs)\n",
        "          # OLD REGIONS\n",
        "          rgsX_2 = list()\n",
        "          rgsY_2 = list()\n",
        "\n",
        "          for reg in regx:\n",
        "            line = list()\n",
        "            for j in reg:\n",
        "              line.append((j / (image.shape[1] / 50)) + 100)\n",
        "            rgsX_2.append(line)\n",
        "\n",
        "          for reg in regy:\n",
        "            line = list()\n",
        "            for j in reg:\n",
        "              line.append(((image.shape[0] - j) / (image.shape[0] / 28)) + 20)\n",
        "            rgsY_2.append(line)\n",
        "          \n",
        "          if self.image_type == 'LT':\n",
        "            max_color_value = 35\n",
        "          else:\n",
        "            max_color_value = 45\n",
        "          \n",
        "          colors = sns.color_palette(\"YlOrBr\", max_color_value + 1)\n",
        "          cmap_old = matplotlib.colors.ListedColormap(colors)\n",
        "          norm_old = matplotlib.colors.BoundaryNorm(np.arange(max_color_value + 1) - 0.5, cmap_old.N)\n",
        "\n",
        "          #for j,val in enumerate(values):\n",
        "          ax3.scatter(rgsX_2[i], rgsY_2[i], marker='.', color=cmap_old(norm_old(int(values[i]))) )\n",
        "          ax3.set_xlim(*x_range)\n",
        "          ax3.set_ylim(*y_range)\n",
        "          ax3.set_title('OLD Regions - IASI ' + self.image_type + \" - \" + str(self.day) +\"/\"+ str(self.month) +\"/\"+ str(self.year))\n",
        "\n",
        "          sm_old = matplotlib.cm.ScalarMappable(cmap=cmap_old, norm=norm_old)\n",
        "          cbar_ax_old = fig.add_axes([0.09, 0.06, 0.84, 0.02])\n",
        "          cb_old = fig3.colorbar(sm_old,cax=cbar_ax_old,orientation='horizontal')\n",
        "          if self.image_type == 'LT':\n",
        "            cb_old.set_ticklabels(np.arange(0,35,4))\n",
        "          else:\n",
        "            cb_old.set_ticklabels(np.arange(0,45,5))\n",
        "          cb_old.set_label('DU')\n",
        "\n",
        "          # NEW\n",
        "          ax0.plot(x, y, label=\"area:\" + str(int(area)))\n",
        "          ax0.set_xlim(*xx_range)\n",
        "          ax0.set_ylim(*yy_range)\n",
        "          ax0.invert_yaxis()\n",
        "\n",
        "          rgsX2 = list()\n",
        "          rgsY2 = list()\n",
        "\n",
        "          for reg in rx:\n",
        "            line = list()\n",
        "            for i in reg:\n",
        "              line.append((i / (image.shape[1] / 50)) + 100)\n",
        "            rgsX2.append(line)\n",
        "\n",
        "          for reg in ry:\n",
        "            line = list()\n",
        "            for i in reg:\n",
        "              line.append(((image.shape[0] - i) / (image.shape[0] / 28)) + 20)\n",
        "            rgsY2.append(line)\n",
        "          \n",
        "          if self.image_type == 'LT':\n",
        "            max_color_value = 35\n",
        "          else:\n",
        "            max_color_value = 45\n",
        "          \n",
        "          colors = sns.color_palette(\"YlOrBr\", max_color_value + 1)\n",
        "          cmap = matplotlib.colors.ListedColormap(colors)\n",
        "          norm = matplotlib.colors.BoundaryNorm(np.arange(max_color_value + 1) - 0.5, cmap.N)\n",
        "\n",
        "          for i,val in enumerate(vs):\n",
        "            ax.scatter(rgsX2[i], rgsY2[i], marker='.', color=cmap(norm(int(val))) )\n",
        "            ax.set_xlim(*x_range)\n",
        "            ax.set_ylim(*y_range)\n",
        "            ax.set_title('Max Regs - IASI ' + self.image_type + \" - \" + str(self.day) +\"/\"+ str(self.month) +\"/\"+ str(self.year))\n",
        "\n",
        "          sm = matplotlib.cm.ScalarMappable(cmap=cmap, norm=norm)\n",
        "          cbar_ax = fig.add_axes([0.09, 0.06, 0.84, 0.02])\n",
        "          cb = fig.colorbar(sm,cax=cbar_ax,orientation='horizontal')\n",
        "          if self.image_type == 'LT':\n",
        "            cb.set_ticklabels(np.arange(0,35,4))\n",
        "          else:\n",
        "            cb.set_ticklabels(np.arange(0,45,5))\n",
        "          cb.set_label('DU')\n",
        "\n",
        "    fig0.legend()\n",
        "    \n",
        "\n",
        "    \n",
        "\n",
        "  \n",
        "  \n",
        "\n",
        "  def classify_neighbors(self, image, regsX, regsY, polygons, values):\n",
        "    #ca = np.zeros([len(polygons),len(polygons), len(values)], np.uint16)\n",
        "    coordinatesList = list()\n",
        "\n",
        "    # Ploting weights\n",
        "    w_coords_x = list()\n",
        "    w_coords_y = list()\n",
        "    w_grays = list()\n",
        "\n",
        "    # Normalization for gray values (Pollution)\n",
        "    valuesNorm = (values - min(values)) / (max(values) - min(values))\n",
        "\n",
        "    for i,value in enumerate(valuesNorm):\n",
        "      # Normalization for X and Y\n",
        "      coord_x = polygons[i].centroid.x / image.shape[1]\n",
        "      coord_y = polygons[i].centroid.y / image.shape[0]\n",
        "      gray_value = value * self.weight_gray_values\n",
        "\n",
        "      ## To apply kmeans\n",
        "      coordinatesList.append(np.array([coord_x,coord_y, gray_value]))\n",
        "      \n",
        "    coordinatesArray = np.asarray(coordinatesList)\n",
        "\n",
        "    ## To plot weights\n",
        "    for coord in coordinatesArray:\n",
        "      w_coords_x.append(coord[0])\n",
        "      w_coords_y.append(coord[1])\n",
        "      w_grays.append(coord[2])\n",
        "\n",
        "    fig_, ax0 = plt.subplots(1,1)\n",
        "    number_regions = np.arange(len(coordinatesArray))\n",
        "\n",
        "    w_legends = [\"X\",\"Y\",\"Gray\"]\n",
        "    ax0.scatter(number_regions, w_coords_x, label=w_legends[0])\n",
        "    ax0.scatter(number_regions, w_coords_y, label=w_legends[1])\n",
        "    ax0.scatter(number_regions, w_grays, label=w_legends[2])\n",
        "    ax0.set_title(\"Weights comparison\")\n",
        "    ax0.set_xlabel(\"Number of Regions\")\n",
        "    ax0.set_ylabel(\"Weight\")\n",
        "    hand, labl = ax0.get_legend_handles_labels()\n",
        "    plt.legend()\n",
        "\n",
        "    # TESTING KMEANS\n",
        "    wcss = list()\n",
        "    for i in range(1,50):\n",
        "      kmeanstest = KMeans(n_clusters=i, random_state=0).fit(coordinatesArray)\n",
        "      wcss.append(kmeanstest.inertia_)\n",
        "      \n",
        "    fig0, ax = plt.subplots(1,1)\n",
        "    ax.scatter(self.N_CLUSTERS,wcss[self.N_CLUSTERS], c='red', label=\"Selected cluster\")\n",
        "    ax.plot( np.arange(len(wcss)) , wcss)\n",
        "    ax.set_title(\"Optimal number of clusters\")\n",
        "    ax.set_xlabel(\"Number of clusters (k)\")\n",
        "    ax.set_ylabel(\"Inertia\")\n",
        "    fig0.legend()\n",
        "\n",
        "    clustering = KMeans(n_clusters=self.N_CLUSTERS, max_iter=300).fit(coordinatesArray)\n",
        "\n",
        "    x_range = [100, 150, 10]\n",
        "    y_range = [20, 48, 5]\n",
        "\n",
        "    rgsX2 = list()\n",
        "    rgsY2 = list()\n",
        "\n",
        "    for reg in regsX:\n",
        "      line = list()\n",
        "      for i in reg:\n",
        "        line.append((i / (image.shape[1] / 50)) + 100)\n",
        "      rgsX2.append(line)\n",
        "\n",
        "    for reg in regsY:\n",
        "      line = list()\n",
        "      for i in reg:\n",
        "        line.append(((image.shape[0] - i) / (image.shape[0] / 28)) + 20)\n",
        "      rgsY2.append(line)\n",
        "\n",
        "    fig, ax1 = plt.subplots(1,1)\n",
        "    m=Basemap(llcrnrlon=100.,llcrnrlat=20.,urcrnrlon=150.,urcrnrlat=48.,resolution='i')\n",
        "    m.drawcoastlines()\n",
        "    m.drawmapboundary()\n",
        "    m.drawmeridians(np.r_[100:151:10], labels=[0,0,0,1], color='grey',fontsize=8,linewidth=0)\n",
        "    m.drawparallels(np.r_[20:48:5], labels=[1,0,0,0], color='grey',fontsize=8,linewidth=0)\n",
        "    \n",
        "    #print(\"labels\", clustering.labels_)\n",
        "    #print(\"center\", clustering.cluster_centers_)\n",
        "\n",
        "    # hls\n",
        "    # Greys\n",
        "    colors = sns.color_palette(\"hls\", max(clustering.labels_) + 1)\n",
        "\n",
        "    cmap = matplotlib.colors.ListedColormap(colors)\n",
        "    norm = matplotlib.colors.BoundaryNorm(np.arange(max(clustering.labels_) + 1) - 0.5, cmap.N)\n",
        " \n",
        "    for i,label in enumerate(clustering.labels_):\n",
        "      ax1.scatter(rgsX2[i],rgsY2[i], marker='.', color=cmap(norm(label)) ) \n",
        "      ax1.set_xlim(*x_range)\n",
        "      ax1.set_ylim(*y_range)\n",
        "      ax1.set_title('CLUSTERS - IASI ' + self.image_type + \" - \" + str(self.day) +\"/\"+ str(self.month) +\"/\"+ str(self.year) + \" - # Clusters: \" + str(self.N_CLUSTERS) )\n",
        "\n",
        "    sm = matplotlib.cm.ScalarMappable(cmap=cmap, norm=norm)\n",
        "    cbar_ax = fig.add_axes([0.09, 0.06, 0.84, 0.02])\n",
        "    cb = fig.colorbar(sm,cax=cbar_ax,orientation='horizontal')\n",
        "    cb.set_ticklabels(np.arange(1,self.N_CLUSTERS))\n",
        "    cb.set_ticks(np.arange(self.N_CLUSTERS), update_ticks=True)\n",
        "    cb.set_label('Clusters')\n",
        "\n",
        "    return clustering.labels_ , clustering.cluster_centers_\n",
        "\n",
        "\n",
        "\n",
        "\n",
        "    \n",
        "  def classify_regions(self, image, polygons):\n",
        "    image = cv2.normalize(image, np.ones((image.shape[0], image.shape[0])) , self.vmin, self.vmax, cv2.NORM_MINMAX )\n",
        "\n",
        "    temp_polygons = polygons.copy()\n",
        "    first_poly = temp_polygons[0]\n",
        "\n",
        "    for i,poly in enumerate(temp_polygons[:]): \n",
        "      if poly is None:\n",
        "        continue \n",
        "\n",
        "      #for j,ut in enumerate(ut_polys[:]):\n",
        "      if first_poly.intersects(poly):\n",
        "        percentage = (first_poly.intersection(poly).area/first_poly.area) * 100\n",
        "\n",
        "        if percentage > 85:\n",
        "          value_poly_1 =  self.get_region_value(image, first_poly)\n",
        "          value_poly_n =  self.get_region_value(image, poly)\n",
        "          if np.abs(value_poly_1 - value_poly_n) < 5:\n",
        "            temp_polygons[i] = None\n",
        "\n",
        "    return temp_polygons\n",
        "\n",
        "\n",
        "\n",
        "  def classify_all_regions(self, image, polygons):\n",
        "    image = cv2.normalize(image, np.ones((image.shape[0], image.shape[0])) , self.vmin, self.vmax, cv2.NORM_MINMAX )\n",
        "    \n",
        "    temp_polygons = polygons.copy()\n",
        "    #first_poly = temp_polygons[0]\n",
        "\n",
        "    for i, poly in enumerate(temp_polygons[:]): \n",
        "      if poly is None:\n",
        "        continue \n",
        "      \n",
        "      if i == 0:\n",
        "        first_poly = temp_polygons[0]\n",
        "      #else:\n",
        "      #  first_poly = poly\n",
        "\n",
        "      if first_poly.intersects(poly):\n",
        "        percentage = (first_poly.intersection(poly).area / first_poly.area) * 100\n",
        "\n",
        "        if percentage > 85:\n",
        "          value_poly_1 =  self.get_region_value(image, first_poly)\n",
        "          value_poly_n =  self.get_region_value(image, poly)\n",
        "\n",
        "          if np.abs(value_poly_1 - value_poly_n) < 5:\n",
        "            temp_polygons[i] = None\n",
        "\n",
        "    return temp_polygons\n",
        "\n",
        "\n",
        "  def get_region_value(self, image, polygon):\n",
        "    \"\"\"\n",
        "    This function returns the mean pixel value from a given polygon\n",
        "    \"\"\"\n",
        "    image = cv2.normalize(image, np.ones((image.shape[0], image.shape[0])) , self.vmin, self.vmax, cv2.NORM_MINMAX )\n",
        "\n",
        "    minx, miny, maxx, maxy = polygon.bounds #Boite englobante\n",
        "\n",
        "    pixel_steps_x = image.shape[1] * self.degree / self.colgrid.shape[1]\n",
        "    pixel_steps_y = image.shape[0] * self.degree / self.colgrid.shape[0]\n",
        "\n",
        "    if int(pixel_steps_x) == 0:\n",
        "      pixel_steps_x = 1.01\n",
        "    \n",
        "    if int(pixel_steps_y) == 0:\n",
        "      pixel_steps_y = 1.01\n",
        "    \n",
        "    minx, maxx, int(pixel_steps_x)\n",
        "\n",
        "    longs = np.arange(minx, maxx, int(pixel_steps_x))\n",
        "    lats = np.arange(miny, maxy, int(pixel_steps_y))\n",
        "\n",
        "    set_of_coordinates = list()\n",
        "    for lon in longs:\n",
        "      for lat in lats:\n",
        "        set_of_coordinates.append(image[int(lat), int(lon)])\n",
        "\n",
        "    value_pixel = np.mean(set_of_coordinates)\n",
        "    \n",
        "    return value_pixel\n",
        "\n",
        "\n",
        "  def export_mser_regions (self,image,regsX,regsY,values):\n",
        "    x_range = [0, image.shape[1]]\n",
        "    y_range = [0, image.shape[0]]\n",
        "\n",
        "    fig, ax = plt.subplots(1,1, figsize=(11,8))\n",
        "\n",
        "    if self.image_type == 'LT':\n",
        "      max_color_value = 35\n",
        "    else:\n",
        "      max_color_value = 45\n",
        "    \n",
        "    colors = sns.color_palette(\"YlOrBr\", max_color_value + 1)\n",
        "    cmap = matplotlib.colors.ListedColormap(colors)\n",
        "    norm = matplotlib.colors.BoundaryNorm(np.arange(max_color_value + 1) - 0.5, cmap.N)\n",
        "\n",
        "    for i,val in enumerate(values):\n",
        "      ax.scatter(regsX[i], regsY[i], marker='.', color=cmap(norm(int(val))) )\n",
        "      ax.set_xlim(*x_range)\n",
        "      ax.set_ylim(*y_range)\n",
        "      ax.invert_yaxis()\n",
        "      ax.axis('off')\n",
        "    \n",
        "    sm = matplotlib.cm.ScalarMappable(cmap=cmap, norm=norm)\n",
        "    fig.savefig(\"regions-mser.png\", bbox_inches='tight', pad_inches=0)\n",
        "    plt.close(fig)\n",
        "\n",
        "\n",
        "\n",
        "  def plot_mser_final_regions (self, image, regsX, regsY, values):\n",
        "\n",
        "    x_range = [100, 150, 10]\n",
        "    y_range = [20, 48, 5]\n",
        "\n",
        "    rgsX2 = list()\n",
        "    rgsY2 = list()\n",
        "\n",
        "    for reg in regsX:\n",
        "      line = list()\n",
        "      for i in reg:\n",
        "        line.append((i / (image.shape[1] / 50)) + 100)\n",
        "      rgsX2.append(line)\n",
        "\n",
        "    for reg in regsY:\n",
        "      line = list()\n",
        "      for i in reg:\n",
        "        line.append(((image.shape[0] - i) / (image.shape[0] / 28)) + 20)\n",
        "      rgsY2.append(line)\n",
        "\n",
        "    fig, ax = plt.subplots(1,1)\n",
        "    m=Basemap(llcrnrlon=100.,llcrnrlat=20.,urcrnrlon=150.,urcrnrlat=48.,resolution='i')\n",
        "    m.drawcoastlines()\n",
        "    m.drawmapboundary()\n",
        "    m.drawmeridians(np.r_[100:151:10], labels=[0,0,0,1], color='grey',fontsize=8,linewidth=0)\n",
        "    m.drawparallels(np.r_[20:48:5], labels=[1,0,0,0], color='grey',fontsize=8,linewidth=0)\n",
        "\n",
        "    if self.image_type == 'LT':\n",
        "      max_color_value = 35\n",
        "    else:\n",
        "      max_color_value = 45\n",
        "    \n",
        "    colors = sns.color_palette(\"YlOrBr\", max_color_value + 1)\n",
        "    cmap = matplotlib.colors.ListedColormap(colors)\n",
        "    norm = matplotlib.colors.BoundaryNorm(np.arange(max_color_value + 1) - 0.5, cmap.N)\n",
        "\n",
        "    print(\"with cmap\", cmap(norm(20)))\n",
        "    print(\"with color\", colors[20])\n",
        "\n",
        "    for i,val in enumerate(values):\n",
        "      ax.scatter(rgsX2[i], rgsY2[i], marker='.', color=cmap(norm(int(val))) )\n",
        "      ax.set_xlim(*x_range)\n",
        "      ax.set_ylim(*y_range)\n",
        "      ax.set_title('REGIONS - IASI ' + self.image_type + \" - \" + str(self.day) +\"/\"+ str(self.month) +\"/\"+ str(self.year))\n",
        "\n",
        "    sm = matplotlib.cm.ScalarMappable(cmap=cmap, norm=norm)\n",
        "    cbar_ax = fig.add_axes([0.09, 0.06, 0.84, 0.02])\n",
        "    cb = fig.colorbar(sm,cax=cbar_ax,orientation='horizontal')\n",
        "\n",
        "    if self.image_type == 'LT':\n",
        "      cb.set_ticklabels(np.arange(0,35,4))\n",
        "    else:\n",
        "      cb.set_ticklabels(np.arange(0,45,5))\n",
        "\n",
        "    cb.set_label('DU')\n",
        "\n",
        "\n",
        "  def plot_mser_regions_3d(self, regsX, regsY, values, labels):\n",
        "    \n",
        "    f3d = plt.figure(figsize=(14, 9))\n",
        "    ax2 = plt.axes(projection ='3d')\n",
        "\n",
        "    #colors = np.array([\"yellow\",\"blue\",\"red\",\"green\",\"magenta\",\"cyan\",\"gray\"])\n",
        "    #colors = {0:\"yellow\", 1:\"blue\", 2:\"red\", 3: \"green\", 4: \"magenta\", 5: \"cyan\", 6:\"gray\"}\n",
        "    #print(\"values\", values)\n",
        "    #print(\"labels\", clustering.labels_)\n",
        "    #print(\"center\", clustering.cluster_centers_)\n",
        "    \n",
        "    for i,label in enumerate(labels):\n",
        "\n",
        "      if label == 0:\n",
        "        color = \"red\"\n",
        "      elif label == 1:\n",
        "        color = \"yellow\"\n",
        "      elif label == 2:\n",
        "        color = \"green\"\n",
        "      elif label == 3:\n",
        "        color = \"magenta\"\n",
        "      elif label == 4:\n",
        "        color = \"cyan\"\n",
        "      elif label == 5:\n",
        "        color = \"gray\"\n",
        "      elif label == 6:\n",
        "        color = \"olive\"\n",
        "      else:\n",
        "        color = \"black\"\n",
        "\n",
        "      ax2.scatter(regsX[i], regsY[i], values[i], marker='.', c=color) # c=colors[clustering.labels_]       #,label='Region ' + str(i))\n",
        "      ax2.set_title('IASI ' + self.image_type + \" - \" + str(self.day) +\"/\"+ str(self.month) +\"/\"+ str(self.year))\n",
        "      \n",
        "\n",
        "\n",
        "\n",
        "  def show_image(self, image):\n",
        "    fig, ax = plt.subplots(1,1, figsize=(11,8))\n",
        "    ax.imshow(image, cmap='gray')\n",
        "\n",
        "  def plot_original_image(self):\n",
        "\n",
        "    if self.image_type == 'LT':\n",
        "      vmax = 35\n",
        "      vmin = 3\n",
        "    else:\n",
        "      vmax = 45\n",
        "      vmin = 5\n",
        "\n",
        "    fig, ax1 = plt.subplots(1,1)\n",
        "    \n",
        "    m=Basemap(llcrnrlon=100.,llcrnrlat=20.,urcrnrlon=150.,urcrnrlat=48.,resolution='i')\n",
        "    m.drawcoastlines()\n",
        "    m.drawmapboundary()\n",
        "    m.drawmeridians(np.r_[100:151:10], labels=[0,0,0,1], color='grey',fontsize=8,linewidth=0)\n",
        "    m.drawparallels(np.r_[20:48:5], labels=[1,0,0,0], color='grey',fontsize=8,linewidth=0)\n",
        "\n",
        "    divider = make_axes_locatable(ax1)\n",
        "    cax = divider.append_axes('right', size='1%', pad=0.05)\n",
        "    cs = ax1.pcolormesh(self.v_x, self.v_y, self.colgrid1, shading='nearest',cmap='jet', vmin=vmin, vmax=vmax)\n",
        "    ax1.set_title('IASI ' + self.image_type + \" - \" + str(self.day) +\"/\"+ str(self.month) +\"/\"+ str(self.year))\n",
        "    fig.colorbar(cs,cax=cax)\n",
        "    \n",
        "\n",
        "  ###############################################################\n",
        "  ###             REMOVE TEMP FILES\n",
        "  ###############################################################\n",
        "\n",
        "  def remove_temporal_files(self):\n",
        "    try:\n",
        "      os.remove(self.image_name)\n",
        "      #Raising your own errors\n",
        "      raise ErrorType(\"Deleting\")\n",
        "    except ErrorType as e:\n",
        "      print(\"Error deleting the file -> \", self.image_name)\n",
        "    "
      ],
      "execution_count": null,
      "outputs": []
    },
    {
      "cell_type": "code",
      "metadata": {
        "id": "-sXoeLodKQ4F",
        "colab": {
          "base_uri": "https://localhost:8080/"
        },
        "outputId": "8f8f081c-de3d-4d81-caa2-b4287270c3b7"
      },
      "source": [
        "imageLT = SplitImageLevels()\n",
        "\n",
        "imageLT.set_year(2008)\n",
        "imageLT.set_month(5)\n",
        "imageLT.set_day(5)\n",
        "imageLT.set_image_type(\"LT\")\n",
        "imageLT.set_image_name(\"levels\")\n",
        "imageLT.set_weight_gray_values(1)\n",
        "imageLT.set_cluster_value(5)\n",
        "#imageLT.set_pixel_size(0.25,.125)\n",
        "\n",
        "imageLT.get_image_by_leves()"
      ],
      "execution_count": null,
      "outputs": [
        {
          "output_type": "stream",
          "text": [
            "reading info ...\n",
            "data readed correctly\n"
          ],
          "name": "stdout"
        }
      ]
    },
    {
      "cell_type": "code",
      "metadata": {
        "id": "WsvRDueGrJ3k",
        "colab": {
          "base_uri": "https://localhost:8080/",
          "height": 243
        },
        "outputId": "fd8ab290-46c2-434b-9e9e-1e9473fc25df"
      },
      "source": [
        "imageLT.plot_original_image()"
      ],
      "execution_count": null,
      "outputs": [
        {
          "output_type": "display_data",
          "data": {
            "image/png": "[encoded data removed]",
            "text/plain": [
              "<Figure size 432x288 with 2 Axes>"
            ]
          },
          "metadata": {
            "tags": [],
            "needs_background": "light"
          }
        }
      ]
    },
    {
      "cell_type": "code",
      "metadata": {
        "id": "omknDXVS7zdb"
      },
      "source": [
        "bgr , gray = imageLT.load_image_from_files(imageLT.get_image_name())\n",
        "#imageLT.process_set_images(gray,bgr)\n",
        "#imageLT.remove_temporal_files()\n",
        "#imageLT.plot_original_image()"
      ],
      "execution_count": null,
      "outputs": []
    },
    {
      "cell_type": "code",
      "metadata": {
        "id": "5fdxsU8o4sAx"
      },
      "source": [
        "image, _, background = imageLT.filter_image(gray)\n",
        "regions, _ = imageLT.get_mser_regions(image)    \n",
        "\n",
        "#img_temp = gray.copy()\n",
        "#img_temp = cv2.cvtColor(img_temp, cv2.COLOR_GRAY2BGR)\n",
        "#for p in regions[:10]:\n",
        "#  for k in p:\n",
        "#    cv2.circle(img_temp, (k[0],k[1]), radius=0, color=(255, 0, 0), thickness=-1)\n",
        "#plt.imshow(img_temp)\n",
        "\n",
        "regx, regy, polys, lines, values = imageLT.set_mser_regions(image, background, regions[:30])"
      ],
      "execution_count": null,
      "outputs": []
    },
    {
      "cell_type": "code",
      "metadata": {
        "colab": {
          "base_uri": "https://localhost:8080/",
          "height": 333
        },
        "id": "oN_TGAwO402I",
        "outputId": "0548cbf2-61db-41ec-92c5-3b025725f73d"
      },
      "source": [
        "imageLT.plot_mser_final_regions(image, regx, regy, values)"
      ],
      "execution_count": null,
      "outputs": [
        {
          "output_type": "stream",
          "text": [
            "with cmap (0.9573241061130334, 0.5117262591311034, 0.11557093425605536, 1.0)\n",
            "with color (0.9573241061130334, 0.5117262591311034, 0.11557093425605536)\n"
          ],
          "name": "stdout"
        },
        {
          "output_type": "display_data",
          "data": {
            "image/png": "[encoded data removed]",
            "text/plain": [
              "<Figure size 432x288 with 2 Axes>"
            ]
          },
          "metadata": {
            "tags": [],
            "needs_background": "light"
          }
        }
      ]
    },
    {
      "cell_type": "code",
      "metadata": {
        "id": "pK6Y15hCByZT"
      },
      "source": [
        "imageLT.export_mser_regions(image, regx, regy, values)"
      ],
      "execution_count": null,
      "outputs": []
    },
    {
      "cell_type": "code",
      "metadata": {
        "colab": {
          "base_uri": "https://localhost:8080/",
          "height": 211
        },
        "id": "qMi1fk6cSnLG",
        "outputId": "ef971a88-9fb8-4d72-f8b7-943fcd568d15"
      },
      "source": [
        "img = io.imread(\"regions-gray-projection1.png\")\n",
        "img = cv2.cvtColor(img, cv2.COLOR_RGBA2RGB)\n",
        "gray1 = cv2.cvtColor(img, cv2.COLOR_RGB2GRAY)\n",
        "\n",
        "#fig, (ax1,ax2) = plt.subplots(1,2,figsize=(11,8))\n",
        "#ax1.imshow(img)\n",
        "#ax2.hist(gray1.ravel(),255,[0,250])\n",
        "#fig.show()\n",
        "\n",
        "\n",
        "all_labels = measure.label(img)\n",
        "blobs_labels = measure.label(img, background=0)\n",
        "\n",
        "fig2, (ax,axx) = plt.subplots(1,2)\n",
        "ax.imshow(all_labels)\n",
        "axx.imshow(blobs_labels)\n",
        "\n",
        "#only_gray = ma.masked_values(gray, gray.max())\n",
        "#only_gray = cv2.bitwise_not(gray, gray, mask=255)"
      ],
      "execution_count": null,
      "outputs": [
        {
          "output_type": "stream",
          "text": [
            "Clipping input data to the valid range for imshow with RGB data ([0..1] for floats or [0..255] for integers).\n",
            "Clipping input data to the valid range for imshow with RGB data ([0..1] for floats or [0..255] for integers).\n"
          ],
          "name": "stderr"
        },
        {
          "output_type": "execute_result",
          "data": {
            "text/plain": [
              "<matplotlib.image.AxesImage at 0x7fdfe7111410>"
            ]
          },
          "metadata": {
            "tags": []
          },
          "execution_count": 76
        },
        {
          "output_type": "display_data",
          "data": {
            "image/png": "[encoded data removed]",
            "text/plain": [
              "<Figure size 432x288 with 2 Axes>"
            ]
          },
          "metadata": {
            "tags": [],
            "needs_background": "light"
          }
        }
      ]
    },
    {
      "cell_type": "code",
      "metadata": {
        "colab": {
          "base_uri": "https://localhost:8080/",
          "height": 405
        },
        "id": "Q1BzrGr5B8mV",
        "outputId": "d52ebfc2-f5e9-446a-c541-1e317bdb31d5"
      },
      "source": [
        "gray = cv2.cvtColor(img, cv2.COLOR_RGB2GRAY)\n",
        "#gray = cv2.threshold(gray, 0, 255, cv2.THRESH_BINARY)[1]  # ensure binary\n",
        "#plt.imshow(gray, cmap=\"gray\")\n",
        "\n",
        "num_labels, labels_im = cv2.connectedComponents(gray)\n",
        "\n",
        "print(num_labels)\n",
        "print(labels_im)\n",
        "#num_labels, labels_im = cv2.connectedComponents(img)\n",
        "\n",
        "def imshow_components(labels):\n",
        "    # Map component labels to hue val\n",
        "    label_hue = np.uint8(179*labels/np.max(labels))\n",
        "    blank_ch = 255*np.ones_like(label_hue)\n",
        "    labeled_img = cv2.merge([label_hue, blank_ch, blank_ch])\n",
        "\n",
        "    # cvt to BGR for display\n",
        "    labeled_img = cv2.cvtColor(labeled_img, cv2.COLOR_HSV2BGR)\n",
        "\n",
        "    # set bg label to black\n",
        "    labeled_img[label_hue==0] = 0\n",
        "\n",
        "    plt.imshow(labeled_img)\n",
        "\n",
        "imshow_components(labels_im)"
      ],
      "execution_count": null,
      "outputs": [
        {
          "output_type": "stream",
          "text": [
            "2\n",
            "[[1 1 1 ... 1 1 1]\n",
            " [1 1 1 ... 1 1 1]\n",
            " [1 1 1 ... 1 1 1]\n",
            " ...\n",
            " [1 1 1 ... 1 1 1]\n",
            " [1 1 1 ... 1 1 1]\n",
            " [1 1 1 ... 1 1 1]]\n"
          ],
          "name": "stdout"
        },
        {
          "output_type": "display_data",
          "data": {
            "image/png": "[encoded data removed]",
            "text/plain": [
              "<Figure size 432x288 with 1 Axes>"
            ]
          },
          "metadata": {
            "tags": [],
            "needs_background": "light"
          }
        }
      ]
    },
    {
      "cell_type": "code",
      "metadata": {
        "id": "xvHMYPOUE5NP"
      },
      "source": [
        "def connected_component_label(path):\n",
        "    \n",
        "    # Getting the input image\n",
        "    img = cv2.imread(path, 0)\n",
        "    # Converting those pixels with values 1-127 to 0 and others to 1\n",
        "    img = cv2.threshold(img, 127, 100, cv2.THRESH_BINARY)[1]\n",
        "    # Applying cv2.connectedComponents() \n",
        "    num_labels, labels = cv2.connectedComponents(img)\n",
        "    \n",
        "    # Map component labels to hue val, 0-179 is the hue range in OpenCV\n",
        "    label_hue = np.uint8(179*labels/np.max(labels))\n",
        "    blank_ch = 255*np.ones_like(label_hue)\n",
        "    labeled_img = cv2.merge([label_hue, blank_ch, blank_ch])\n",
        "\n",
        "    # Converting cvt to BGR\n",
        "    labeled_img = cv2.cvtColor(labeled_img, cv2.COLOR_HSV2BGR)\n",
        "\n",
        "    # set bg label to black\n",
        "    labeled_img[label_hue==0] = 0\n",
        "    \n",
        "    \n",
        "    # Showing Original Image\n",
        "    plt.imshow(cv2.cvtColor(img, cv2.COLOR_BGR2RGB))\n",
        "    plt.axis(\"off\")\n",
        "    plt.title(\"Orginal Image\")\n",
        "    plt.show()\n",
        "    \n",
        "    #Showing Image after Component Labeling\n",
        "    plt.imshow(cv2.cvtColor(labeled_img, cv2.COLOR_BGR2RGB))\n",
        "    plt.axis('off')\n",
        "    plt.title(\"Image after Component Labeling\")\n",
        "    plt.show()\n"
      ],
      "execution_count": null,
      "outputs": []
    },
    {
      "cell_type": "code",
      "metadata": {
        "id": "Mxc4xf27E5Px",
        "colab": {
          "base_uri": "https://localhost:8080/",
          "height": 511
        },
        "outputId": "23890bb7-9652-4705-d177-e1fb1c276c34"
      },
      "source": [
        "connected_component_label(\"test_01.png\")"
      ],
      "execution_count": null,
      "outputs": [
        {
          "output_type": "display_data",
          "data": {
            "image/png": "[encoded data removed]",
            "text/plain": [
              "<Figure size 432x288 with 1 Axes>"
            ]
          },
          "metadata": {
            "tags": [],
            "needs_background": "light"
          }
        },
        {
          "output_type": "display_data",
          "data": {
            "image/png": "[encoded data removed]",
            "text/plain": [
              "<Figure size 432x288 with 1 Axes>"
            ]
          },
          "metadata": {
            "tags": [],
            "needs_background": "light"
          }
        }
      ]
    },
    {
      "cell_type": "code",
      "metadata": {
        "id": "Vg6x0xFKE5SO"
      },
      "source": [
        ""
      ],
      "execution_count": null,
      "outputs": []
    },
    {
      "cell_type": "code",
      "metadata": {
        "id": "b-i1C6lTE5Yo",
        "colab": {
          "base_uri": "https://localhost:8080/",
          "height": 681
        },
        "outputId": "4696eaa7-5b5e-4b17-d2ca-a8c002ce96ca"
      },
      "source": [
        "from skimage import measure\n",
        "from skimage import filters\n",
        "\n",
        "n = 12\n",
        "l = 256\n",
        "np.random.seed(1)\n",
        "im = np.zeros((l, l))\n",
        "points = l * np.random.random((2, n ** 1))\n",
        "im[(points[0]).astype(np.int), (points[1]).astype(np.int)] = 1\n",
        "im = filters.gaussian(im, sigma= l / (4. * n))\n",
        "blobs = im > 0.7 * im.mean()\n",
        "\n",
        "all_labels = measure.label(blobs)\n",
        "blobs_labels = measure.label(blobs, background=0)\n",
        "\n",
        "fig, ax = plt.subplots(1,1, figsize=(11,8))\n",
        "ax.imshow(blobs, cmap=\"gray\")\n",
        "ax.axis(\"off\")\n",
        "\n",
        "plt.figure(figsize=(9, 3.5))\n",
        "plt.subplot(131)\n",
        "plt.imshow(blobs,cmap=\"gray\")\n",
        "plt.axis('off')\n",
        "plt.subplot(132)\n",
        "plt.imshow(all_labels, cmap='nipy_spectral')\n",
        "plt.axis('off')\n",
        "plt.subplot(133)\n",
        "plt.imshow(blobs_labels, cmap='nipy_spectral')\n",
        "plt.axis('off')\n",
        "\n",
        "plt.tight_layout()\n",
        "plt.show()"
      ],
      "execution_count": null,
      "outputs": [
        {
          "output_type": "display_data",
          "data": {
            "image/png": "[encoded data removed]",
            "text/plain": [
              "<Figure size 792x576 with 1 Axes>"
            ]
          },
          "metadata": {
            "tags": [],
            "needs_background": "light"
          }
        },
        {
          "output_type": "display_data",
          "data": {
            "image/png": "[encoded data removed]",
            "text/plain": [
              "<Figure size 648x252 with 3 Axes>"
            ]
          },
          "metadata": {
            "tags": [],
            "needs_background": "light"
          }
        }
      ]
    },
    {
      "cell_type": "code",
      "metadata": {
        "id": "6QAkF5ZmE5bL"
      },
      "source": [
        ""
      ],
      "execution_count": null,
      "outputs": []
    },
    {
      "cell_type": "code",
      "metadata": {
        "id": "JWl09WeIE5df"
      },
      "source": [
        ""
      ],
      "execution_count": null,
      "outputs": []
    },
    {
      "cell_type": "code",
      "metadata": {
        "id": "LykCOsOcB8xZ"
      },
      "source": [
        ""
      ],
      "execution_count": null,
      "outputs": []
    },
    {
      "cell_type": "code",
      "metadata": {
        "id": "Zd3SjpQxB83g"
      },
      "source": [
        ""
      ],
      "execution_count": null,
      "outputs": []
    },
    {
      "cell_type": "code",
      "metadata": {
        "id": "_gB1Q1vXDZc6"
      },
      "source": [
        "#labels, centers = imageLT.classify_neighbors(image, regx, regy,polys, values)"
      ],
      "execution_count": null,
      "outputs": []
    },
    {
      "cell_type": "code",
      "metadata": {
        "id": "5db9Ag7N5A4L"
      },
      "source": [
        "#imageLT.divide_regions(image,regx, regy, polys, lines, values)"
      ],
      "execution_count": null,
      "outputs": []
    },
    {
      "cell_type": "code",
      "metadata": {
        "id": "RTxoS-mn5A6v"
      },
      "source": [
        ""
      ],
      "execution_count": null,
      "outputs": []
    },
    {
      "cell_type": "code",
      "metadata": {
        "id": "r1VAgoHB5A9G"
      },
      "source": [
        ""
      ],
      "execution_count": null,
      "outputs": []
    },
    {
      "cell_type": "code",
      "metadata": {
        "id": "5MduClvK5BCR"
      },
      "source": [
        ""
      ],
      "execution_count": null,
      "outputs": []
    },
    {
      "cell_type": "code",
      "metadata": {
        "id": "x9-gAczO5BEz"
      },
      "source": [
        ""
      ],
      "execution_count": null,
      "outputs": []
    },
    {
      "cell_type": "code",
      "metadata": {
        "id": "abg-8rcH5BHh"
      },
      "source": [
        ""
      ],
      "execution_count": null,
      "outputs": []
    },
    {
      "cell_type": "code",
      "metadata": {
        "id": "dwKop4O3Fbwc",
        "colab": {
          "base_uri": "https://localhost:8080/",
          "height": 286
        },
        "outputId": "04def1e6-fad3-45d2-d649-1766078735fe"
      },
      "source": [
        "directories = os.listdir( imageLT.get_DIR_TRAIN() )\n",
        " \n",
        "# This would print all the files and directories\n",
        "for file in directories:\n",
        "  only_png_files = re.search(\".png\", file)\n",
        "  if only_png_files is not None:\n",
        "    only_same_day = re.search(str(imageLT.get_year())+\"%02d\"%imageLT.get_month()+\"%02d\"%imageLT.get_day(), file)\n",
        "    if only_same_day is not None:\n",
        "      only_image_type = re.search(imageLT.get_image_type(), file)\n",
        "      if only_image_type is not None:\n",
        "        img = io.imread(imageLT.get_DIR_TRAIN() + file)\n",
        "        img = cv2.cvtColor(img, cv2.COLOR_RGBA2RGB)\n",
        "        img_hsv = cv2.cvtColor(img, cv2.COLOR_RGB2HSV)\n",
        "\n",
        "        #l_r = np.array([0,100,0])\n",
        "        #u_r = np.array([5,255,255])\n",
        "\n",
        "        l_r = np.array([36,0,0])\n",
        "        u_r = np.array([86,255,255])\n",
        "\n",
        "        #l_r = np.array([20, 100, 100])\n",
        "        #u_r = np.array([30, 255, 255])\n",
        "\n",
        "        #Define threshold color range to filter\n",
        "        mask_red = cv2.inRange(img_hsv, l_r, u_r)\n",
        "\n",
        "        # Bitwise-AND mask and original image\n",
        "        res = cv2.bitwise_and(img_hsv, img_hsv, mask=mask_red)\n",
        "        ratio = cv2.countNonZero(mask_red)/(img_hsv.size/3)\n",
        "        print('pixel percentage:', np.round(ratio*100, 2))\n",
        "\n",
        "        pollution = cv2.bitwise_and(img, img, mask=mask_red)\n",
        "\n",
        "        mser = cv2.MSER_create(1, 100, 50000, .25, 1., 1000, 1.001, 0.003, 5)\n",
        "        regions_target, bboxes = mser.detectRegions(pollution)\n",
        "        regions_target = sorted(regions_target, key=cv2.contourArea, reverse=True)\n",
        "\n",
        "        x_range = [0, image.shape[1]]\n",
        "        y_range = [0, image.shape[0]]\n",
        "\n",
        "        #fig, ax = plt.subplots(1,1)\n",
        "\n",
        "        fig2, ax2 = plt.subplots(1,1)\n",
        "       \n",
        "        for j,r in enumerate(regions_target):\n",
        "          region = list()\n",
        "          hull = cv2.convexHull(r)\n",
        "\n",
        "          for h in hull:\n",
        "              region.append(h[0].tolist())\n",
        "\n",
        "          region.append(region[0])\n",
        "          poly_target = Polygon(region)\n",
        "          line = LineString(region)\n",
        "          x,y = line.xy\n",
        "\n",
        "          #image = cv2.normalize(image, np.ones((image.shape[0], image.shape[0])) , self.vmin, self.vmax, cv2.NORM_MINMAX )\n",
        "\n",
        "          for i,poly in enumerate(polys[:]): \n",
        "            if poly is None:\n",
        "              continue \n",
        "\n",
        "            #for j,ut in enumerate(ut_polys[:]):\n",
        "            if poly_target.intersects(poly):\n",
        "              percentage = (poly_target.intersection(poly).area/poly_target.area) * 100\n",
        "\n",
        "              if percentage > 99:\n",
        "                value_poly_1 =  imageLT.get_region_value(image, poly_target)\n",
        "                value_poly_n =  imageLT.get_region_value(image, poly)\n",
        "\n",
        "                if np.abs(value_poly_1 - value_poly_n) < 10:\n",
        "\n",
        "                  if imageLT.image_type == 'LT':\n",
        "                    max_color_value = 35\n",
        "                  else:\n",
        "                    max_color_value = 45\n",
        "                  \n",
        "                  colors = sns.color_palette(\"YlOrBr\", max_color_value + 1)\n",
        "                  cmap = matplotlib.colors.ListedColormap(colors)\n",
        "                  norm = matplotlib.colors.BoundaryNorm(np.arange(max_color_value + 1) - 0.5, cmap.N)\n",
        "\n",
        "                  my_line = lines[i]\n",
        "                  _x,_y = my_line.xy\n",
        "                  ax2.plot(x,y, color=\"yellow\")\n",
        "                  ax2.scatter(regx[i], regy[i], marker='.',color=cmap(norm(values[i])))\n",
        "                  ax2.set_xlim(*x_range)\n",
        "                  ax2.set_ylim(*y_range)\n",
        "                  ax2.invert_yaxis()\n",
        "\n",
        "                #  temp_polygons[i] = None\n",
        "          \n",
        "        #imageLT.show_image(target_image)\n",
        "        "
      ],
      "execution_count": null,
      "outputs": [
        {
          "output_type": "stream",
          "text": [
            "pixel percentage: 10.18\n"
          ],
          "name": "stdout"
        },
        {
          "output_type": "display_data",
          "data": {
            "image/png": "[encoded data removed]",
            "text/plain": [
              "<Figure size 432x288 with 1 Axes>"
            ]
          },
          "metadata": {
            "tags": [],
            "needs_background": "light"
          }
        }
      ]
    },
    {
      "cell_type": "code",
      "metadata": {
        "id": "iXky4GtQ1UYK"
      },
      "source": [
        "#img = io.imread(\"testca.png\")\n",
        "#img = cv2.cvtColor(img, cv2.COLOR_BGR2RGB)\n",
        "\n",
        "#mser = cv2.MSER_create(1, 100, 20000, .25, 1., 1000, 1.001, 0.003, 5)\n",
        "#reg2, _ = mser.detectRegions(img)\n",
        "#reg2 = sorted(reg2, key=cv2.contourArea, reverse=True)\n",
        "\n",
        "#for p in reg2[:]:\n",
        "#  for k in p:\n",
        "#    cv2.circle(img, (k[0],k[1]), radius=0, color=(0, 0, 255), thickness=-1)\n",
        "\n",
        "#plt.imshow(img)"
      ],
      "execution_count": null,
      "outputs": []
    },
    {
      "cell_type": "code",
      "metadata": {
        "id": "Wn1lP6T6ykNm"
      },
      "source": [
        ""
      ],
      "execution_count": null,
      "outputs": []
    }
  ]
}